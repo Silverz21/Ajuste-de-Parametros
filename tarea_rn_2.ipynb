{
  "nbformat": 4,
  "nbformat_minor": 0,
  "metadata": {
    "colab": {
      "provenance": [],
      "mount_file_id": "https://gist.github.com/Silverz21/546ab91c98fe76f7a09cfdc4bdc3d3b7#file-tarea-rn-2-ipynb",
      "authorship_tag": "ABX9TyOhSW7NEKmJjrnUS52h02f1",
      "include_colab_link": true
    },
    "kernelspec": {
      "name": "python3",
      "display_name": "Python 3"
    },
    "language_info": {
      "name": "python"
    }
  },
  "cells": [
    {
      "cell_type": "markdown",
      "metadata": {
        "id": "view-in-github",
        "colab_type": "text"
      },
      "source": [
        "<a href=\"https://colab.research.google.com/github/Silverz21/Ajuste-de-Parametros/blob/main/tarea_rn_2.ipynb\" target=\"_parent\"><img src=\"https://colab.research.google.com/assets/colab-badge.svg\" alt=\"Open In Colab\"/></a>"
      ]
    },
    {
      "cell_type": "code",
      "execution_count": 8,
      "metadata": {
        "id": "HhjT_rrgsR2I"
      },
      "outputs": [],
      "source": [
        "import pandas as pd\n",
        "import numpy as np\n",
        "import matplotlib.pyplot as plt\n",
        "import seaborn as sns\n",
        "import warnings\n",
        "from sklearn.model_selection import train_test_split\n",
        "from keras.models import Sequential\n",
        "from keras.layers import Dense\n",
        "warnings.filterwarnings('ignore') "
      ]
    },
    {
      "cell_type": "code",
      "source": [
        "path = \"/content/drive/MyDrive/creditcard.csv\"\n",
        "df = pd.read_csv(path)\n",
        "df.dropna(inplace=True)\n",
        "display(df)"
      ],
      "metadata": {
        "colab": {
          "base_uri": "https://localhost:8080/",
          "height": 488
        },
        "id": "iA17aWE_sujv",
        "outputId": "51543798-d7b2-4b49-b978-a4f1a426b74f"
      },
      "execution_count": 4,
      "outputs": [
        {
          "output_type": "display_data",
          "data": {
            "text/plain": [
              "        Time        V1        V2        V3        V4        V5        V6  \\\n",
              "0          0 -1.359807 -0.072781  2.536347  1.378155 -0.338321  0.462388   \n",
              "1          0  1.191857  0.266151  0.166480  0.448154  0.060018 -0.082361   \n",
              "2          1 -1.358354 -1.340163  1.773209  0.379780 -0.503198  1.800499   \n",
              "3          1 -0.966272 -0.185226  1.792993 -0.863291 -0.010309  1.247203   \n",
              "4          2 -1.158233  0.877737  1.548718  0.403034 -0.407193  0.095921   \n",
              "...      ...       ...       ...       ...       ...       ...       ...   \n",
              "77332  57002  0.958079 -0.370366  1.258194  0.730481 -0.436944  1.544908   \n",
              "77333  57003 -1.565835  0.537575  3.284121  3.229021 -0.917761  2.016339   \n",
              "77334  57005 -0.710264 -0.095320  2.899716  0.718612 -0.501955  0.968641   \n",
              "77335  57005  0.875729 -0.658494 -0.798643 -0.889801 -0.205406 -1.093946   \n",
              "77336  57006 -0.679923  1.074176  1.045563  1.100620 -0.764069 -1.048969   \n",
              "\n",
              "             V7        V8        V9  ...       V21       V22       V23  \\\n",
              "0      0.239599  0.098698  0.363787  ... -0.018307  0.277838 -0.110474   \n",
              "1     -0.078803  0.085102 -0.255425  ... -0.225775 -0.638672  0.101288   \n",
              "2      0.791461  0.247676 -1.514654  ...  0.247998  0.771679  0.909412   \n",
              "3      0.237609  0.377436 -1.387024  ... -0.108300  0.005274 -0.190321   \n",
              "4      0.592941 -0.270533  0.817739  ... -0.009431  0.798278 -0.137458   \n",
              "...         ...       ...       ...  ...       ...       ...       ...   \n",
              "77332 -0.932519  0.638980  0.865370  ...  0.055591  0.496503  0.190713   \n",
              "77333 -1.157749  1.086392  0.234172  ...  0.125678  1.072830 -0.229837   \n",
              "77334 -0.007123  0.308006  1.383339  ...  0.069589  0.711129 -0.038570   \n",
              "77335  0.743501 -0.381269  0.405087  ...  0.192299  0.161282 -0.451218   \n",
              "77336  0.601586  0.283135 -0.674820  ...  0.256539  0.475028  0.124473   \n",
              "\n",
              "            V24       V25       V26       V27       V28  Amount  Class  \n",
              "0      0.066928  0.128539 -0.189115  0.133558 -0.021053  149.62    0.0  \n",
              "1     -0.339846  0.167170  0.125895 -0.008983  0.014724    2.69    0.0  \n",
              "2     -0.689281 -0.327642 -0.139097 -0.055353 -0.059752  378.66    0.0  \n",
              "3     -1.175575  0.647376 -0.221929  0.062723  0.061458  123.50    0.0  \n",
              "4      0.141267 -0.206010  0.502292  0.219422  0.215153   69.99    0.0  \n",
              "...         ...       ...       ...       ...       ...     ...    ...  \n",
              "77332 -0.595555 -0.101279  0.424053  0.088563  0.017342   15.97    0.0  \n",
              "77333  0.094444  0.215087  0.544487  0.271867 -0.089124   25.69    0.0  \n",
              "77334  0.088990 -0.282553 -0.448201  0.054450 -0.051693   65.00    0.0  \n",
              "77335  0.060376  0.885705 -0.477421 -0.036297  0.035704  235.53    0.0  \n",
              "77336  0.886947 -0.327076 -0.362904  0.017048  0.109040   73.52    0.0  \n",
              "\n",
              "[77337 rows x 31 columns]"
            ],
            "text/html": [
              "\n",
              "  <div id=\"df-7e5f1cd7-2029-4042-bb0b-191cfef9465b\">\n",
              "    <div class=\"colab-df-container\">\n",
              "      <div>\n",
              "<style scoped>\n",
              "    .dataframe tbody tr th:only-of-type {\n",
              "        vertical-align: middle;\n",
              "    }\n",
              "\n",
              "    .dataframe tbody tr th {\n",
              "        vertical-align: top;\n",
              "    }\n",
              "\n",
              "    .dataframe thead th {\n",
              "        text-align: right;\n",
              "    }\n",
              "</style>\n",
              "<table border=\"1\" class=\"dataframe\">\n",
              "  <thead>\n",
              "    <tr style=\"text-align: right;\">\n",
              "      <th></th>\n",
              "      <th>Time</th>\n",
              "      <th>V1</th>\n",
              "      <th>V2</th>\n",
              "      <th>V3</th>\n",
              "      <th>V4</th>\n",
              "      <th>V5</th>\n",
              "      <th>V6</th>\n",
              "      <th>V7</th>\n",
              "      <th>V8</th>\n",
              "      <th>V9</th>\n",
              "      <th>...</th>\n",
              "      <th>V21</th>\n",
              "      <th>V22</th>\n",
              "      <th>V23</th>\n",
              "      <th>V24</th>\n",
              "      <th>V25</th>\n",
              "      <th>V26</th>\n",
              "      <th>V27</th>\n",
              "      <th>V28</th>\n",
              "      <th>Amount</th>\n",
              "      <th>Class</th>\n",
              "    </tr>\n",
              "  </thead>\n",
              "  <tbody>\n",
              "    <tr>\n",
              "      <th>0</th>\n",
              "      <td>0</td>\n",
              "      <td>-1.359807</td>\n",
              "      <td>-0.072781</td>\n",
              "      <td>2.536347</td>\n",
              "      <td>1.378155</td>\n",
              "      <td>-0.338321</td>\n",
              "      <td>0.462388</td>\n",
              "      <td>0.239599</td>\n",
              "      <td>0.098698</td>\n",
              "      <td>0.363787</td>\n",
              "      <td>...</td>\n",
              "      <td>-0.018307</td>\n",
              "      <td>0.277838</td>\n",
              "      <td>-0.110474</td>\n",
              "      <td>0.066928</td>\n",
              "      <td>0.128539</td>\n",
              "      <td>-0.189115</td>\n",
              "      <td>0.133558</td>\n",
              "      <td>-0.021053</td>\n",
              "      <td>149.62</td>\n",
              "      <td>0.0</td>\n",
              "    </tr>\n",
              "    <tr>\n",
              "      <th>1</th>\n",
              "      <td>0</td>\n",
              "      <td>1.191857</td>\n",
              "      <td>0.266151</td>\n",
              "      <td>0.166480</td>\n",
              "      <td>0.448154</td>\n",
              "      <td>0.060018</td>\n",
              "      <td>-0.082361</td>\n",
              "      <td>-0.078803</td>\n",
              "      <td>0.085102</td>\n",
              "      <td>-0.255425</td>\n",
              "      <td>...</td>\n",
              "      <td>-0.225775</td>\n",
              "      <td>-0.638672</td>\n",
              "      <td>0.101288</td>\n",
              "      <td>-0.339846</td>\n",
              "      <td>0.167170</td>\n",
              "      <td>0.125895</td>\n",
              "      <td>-0.008983</td>\n",
              "      <td>0.014724</td>\n",
              "      <td>2.69</td>\n",
              "      <td>0.0</td>\n",
              "    </tr>\n",
              "    <tr>\n",
              "      <th>2</th>\n",
              "      <td>1</td>\n",
              "      <td>-1.358354</td>\n",
              "      <td>-1.340163</td>\n",
              "      <td>1.773209</td>\n",
              "      <td>0.379780</td>\n",
              "      <td>-0.503198</td>\n",
              "      <td>1.800499</td>\n",
              "      <td>0.791461</td>\n",
              "      <td>0.247676</td>\n",
              "      <td>-1.514654</td>\n",
              "      <td>...</td>\n",
              "      <td>0.247998</td>\n",
              "      <td>0.771679</td>\n",
              "      <td>0.909412</td>\n",
              "      <td>-0.689281</td>\n",
              "      <td>-0.327642</td>\n",
              "      <td>-0.139097</td>\n",
              "      <td>-0.055353</td>\n",
              "      <td>-0.059752</td>\n",
              "      <td>378.66</td>\n",
              "      <td>0.0</td>\n",
              "    </tr>\n",
              "    <tr>\n",
              "      <th>3</th>\n",
              "      <td>1</td>\n",
              "      <td>-0.966272</td>\n",
              "      <td>-0.185226</td>\n",
              "      <td>1.792993</td>\n",
              "      <td>-0.863291</td>\n",
              "      <td>-0.010309</td>\n",
              "      <td>1.247203</td>\n",
              "      <td>0.237609</td>\n",
              "      <td>0.377436</td>\n",
              "      <td>-1.387024</td>\n",
              "      <td>...</td>\n",
              "      <td>-0.108300</td>\n",
              "      <td>0.005274</td>\n",
              "      <td>-0.190321</td>\n",
              "      <td>-1.175575</td>\n",
              "      <td>0.647376</td>\n",
              "      <td>-0.221929</td>\n",
              "      <td>0.062723</td>\n",
              "      <td>0.061458</td>\n",
              "      <td>123.50</td>\n",
              "      <td>0.0</td>\n",
              "    </tr>\n",
              "    <tr>\n",
              "      <th>4</th>\n",
              "      <td>2</td>\n",
              "      <td>-1.158233</td>\n",
              "      <td>0.877737</td>\n",
              "      <td>1.548718</td>\n",
              "      <td>0.403034</td>\n",
              "      <td>-0.407193</td>\n",
              "      <td>0.095921</td>\n",
              "      <td>0.592941</td>\n",
              "      <td>-0.270533</td>\n",
              "      <td>0.817739</td>\n",
              "      <td>...</td>\n",
              "      <td>-0.009431</td>\n",
              "      <td>0.798278</td>\n",
              "      <td>-0.137458</td>\n",
              "      <td>0.141267</td>\n",
              "      <td>-0.206010</td>\n",
              "      <td>0.502292</td>\n",
              "      <td>0.219422</td>\n",
              "      <td>0.215153</td>\n",
              "      <td>69.99</td>\n",
              "      <td>0.0</td>\n",
              "    </tr>\n",
              "    <tr>\n",
              "      <th>...</th>\n",
              "      <td>...</td>\n",
              "      <td>...</td>\n",
              "      <td>...</td>\n",
              "      <td>...</td>\n",
              "      <td>...</td>\n",
              "      <td>...</td>\n",
              "      <td>...</td>\n",
              "      <td>...</td>\n",
              "      <td>...</td>\n",
              "      <td>...</td>\n",
              "      <td>...</td>\n",
              "      <td>...</td>\n",
              "      <td>...</td>\n",
              "      <td>...</td>\n",
              "      <td>...</td>\n",
              "      <td>...</td>\n",
              "      <td>...</td>\n",
              "      <td>...</td>\n",
              "      <td>...</td>\n",
              "      <td>...</td>\n",
              "      <td>...</td>\n",
              "    </tr>\n",
              "    <tr>\n",
              "      <th>77332</th>\n",
              "      <td>57002</td>\n",
              "      <td>0.958079</td>\n",
              "      <td>-0.370366</td>\n",
              "      <td>1.258194</td>\n",
              "      <td>0.730481</td>\n",
              "      <td>-0.436944</td>\n",
              "      <td>1.544908</td>\n",
              "      <td>-0.932519</td>\n",
              "      <td>0.638980</td>\n",
              "      <td>0.865370</td>\n",
              "      <td>...</td>\n",
              "      <td>0.055591</td>\n",
              "      <td>0.496503</td>\n",
              "      <td>0.190713</td>\n",
              "      <td>-0.595555</td>\n",
              "      <td>-0.101279</td>\n",
              "      <td>0.424053</td>\n",
              "      <td>0.088563</td>\n",
              "      <td>0.017342</td>\n",
              "      <td>15.97</td>\n",
              "      <td>0.0</td>\n",
              "    </tr>\n",
              "    <tr>\n",
              "      <th>77333</th>\n",
              "      <td>57003</td>\n",
              "      <td>-1.565835</td>\n",
              "      <td>0.537575</td>\n",
              "      <td>3.284121</td>\n",
              "      <td>3.229021</td>\n",
              "      <td>-0.917761</td>\n",
              "      <td>2.016339</td>\n",
              "      <td>-1.157749</td>\n",
              "      <td>1.086392</td>\n",
              "      <td>0.234172</td>\n",
              "      <td>...</td>\n",
              "      <td>0.125678</td>\n",
              "      <td>1.072830</td>\n",
              "      <td>-0.229837</td>\n",
              "      <td>0.094444</td>\n",
              "      <td>0.215087</td>\n",
              "      <td>0.544487</td>\n",
              "      <td>0.271867</td>\n",
              "      <td>-0.089124</td>\n",
              "      <td>25.69</td>\n",
              "      <td>0.0</td>\n",
              "    </tr>\n",
              "    <tr>\n",
              "      <th>77334</th>\n",
              "      <td>57005</td>\n",
              "      <td>-0.710264</td>\n",
              "      <td>-0.095320</td>\n",
              "      <td>2.899716</td>\n",
              "      <td>0.718612</td>\n",
              "      <td>-0.501955</td>\n",
              "      <td>0.968641</td>\n",
              "      <td>-0.007123</td>\n",
              "      <td>0.308006</td>\n",
              "      <td>1.383339</td>\n",
              "      <td>...</td>\n",
              "      <td>0.069589</td>\n",
              "      <td>0.711129</td>\n",
              "      <td>-0.038570</td>\n",
              "      <td>0.088990</td>\n",
              "      <td>-0.282553</td>\n",
              "      <td>-0.448201</td>\n",
              "      <td>0.054450</td>\n",
              "      <td>-0.051693</td>\n",
              "      <td>65.00</td>\n",
              "      <td>0.0</td>\n",
              "    </tr>\n",
              "    <tr>\n",
              "      <th>77335</th>\n",
              "      <td>57005</td>\n",
              "      <td>0.875729</td>\n",
              "      <td>-0.658494</td>\n",
              "      <td>-0.798643</td>\n",
              "      <td>-0.889801</td>\n",
              "      <td>-0.205406</td>\n",
              "      <td>-1.093946</td>\n",
              "      <td>0.743501</td>\n",
              "      <td>-0.381269</td>\n",
              "      <td>0.405087</td>\n",
              "      <td>...</td>\n",
              "      <td>0.192299</td>\n",
              "      <td>0.161282</td>\n",
              "      <td>-0.451218</td>\n",
              "      <td>0.060376</td>\n",
              "      <td>0.885705</td>\n",
              "      <td>-0.477421</td>\n",
              "      <td>-0.036297</td>\n",
              "      <td>0.035704</td>\n",
              "      <td>235.53</td>\n",
              "      <td>0.0</td>\n",
              "    </tr>\n",
              "    <tr>\n",
              "      <th>77336</th>\n",
              "      <td>57006</td>\n",
              "      <td>-0.679923</td>\n",
              "      <td>1.074176</td>\n",
              "      <td>1.045563</td>\n",
              "      <td>1.100620</td>\n",
              "      <td>-0.764069</td>\n",
              "      <td>-1.048969</td>\n",
              "      <td>0.601586</td>\n",
              "      <td>0.283135</td>\n",
              "      <td>-0.674820</td>\n",
              "      <td>...</td>\n",
              "      <td>0.256539</td>\n",
              "      <td>0.475028</td>\n",
              "      <td>0.124473</td>\n",
              "      <td>0.886947</td>\n",
              "      <td>-0.327076</td>\n",
              "      <td>-0.362904</td>\n",
              "      <td>0.017048</td>\n",
              "      <td>0.109040</td>\n",
              "      <td>73.52</td>\n",
              "      <td>0.0</td>\n",
              "    </tr>\n",
              "  </tbody>\n",
              "</table>\n",
              "<p>77337 rows × 31 columns</p>\n",
              "</div>\n",
              "      <button class=\"colab-df-convert\" onclick=\"convertToInteractive('df-7e5f1cd7-2029-4042-bb0b-191cfef9465b')\"\n",
              "              title=\"Convert this dataframe to an interactive table.\"\n",
              "              style=\"display:none;\">\n",
              "        \n",
              "  <svg xmlns=\"http://www.w3.org/2000/svg\" height=\"24px\"viewBox=\"0 0 24 24\"\n",
              "       width=\"24px\">\n",
              "    <path d=\"M0 0h24v24H0V0z\" fill=\"none\"/>\n",
              "    <path d=\"M18.56 5.44l.94 2.06.94-2.06 2.06-.94-2.06-.94-.94-2.06-.94 2.06-2.06.94zm-11 1L8.5 8.5l.94-2.06 2.06-.94-2.06-.94L8.5 2.5l-.94 2.06-2.06.94zm10 10l.94 2.06.94-2.06 2.06-.94-2.06-.94-.94-2.06-.94 2.06-2.06.94z\"/><path d=\"M17.41 7.96l-1.37-1.37c-.4-.4-.92-.59-1.43-.59-.52 0-1.04.2-1.43.59L10.3 9.45l-7.72 7.72c-.78.78-.78 2.05 0 2.83L4 21.41c.39.39.9.59 1.41.59.51 0 1.02-.2 1.41-.59l7.78-7.78 2.81-2.81c.8-.78.8-2.07 0-2.86zM5.41 20L4 18.59l7.72-7.72 1.47 1.35L5.41 20z\"/>\n",
              "  </svg>\n",
              "      </button>\n",
              "      \n",
              "  <style>\n",
              "    .colab-df-container {\n",
              "      display:flex;\n",
              "      flex-wrap:wrap;\n",
              "      gap: 12px;\n",
              "    }\n",
              "\n",
              "    .colab-df-convert {\n",
              "      background-color: #E8F0FE;\n",
              "      border: none;\n",
              "      border-radius: 50%;\n",
              "      cursor: pointer;\n",
              "      display: none;\n",
              "      fill: #1967D2;\n",
              "      height: 32px;\n",
              "      padding: 0 0 0 0;\n",
              "      width: 32px;\n",
              "    }\n",
              "\n",
              "    .colab-df-convert:hover {\n",
              "      background-color: #E2EBFA;\n",
              "      box-shadow: 0px 1px 2px rgba(60, 64, 67, 0.3), 0px 1px 3px 1px rgba(60, 64, 67, 0.15);\n",
              "      fill: #174EA6;\n",
              "    }\n",
              "\n",
              "    [theme=dark] .colab-df-convert {\n",
              "      background-color: #3B4455;\n",
              "      fill: #D2E3FC;\n",
              "    }\n",
              "\n",
              "    [theme=dark] .colab-df-convert:hover {\n",
              "      background-color: #434B5C;\n",
              "      box-shadow: 0px 1px 3px 1px rgba(0, 0, 0, 0.15);\n",
              "      filter: drop-shadow(0px 1px 2px rgba(0, 0, 0, 0.3));\n",
              "      fill: #FFFFFF;\n",
              "    }\n",
              "  </style>\n",
              "\n",
              "      <script>\n",
              "        const buttonEl =\n",
              "          document.querySelector('#df-7e5f1cd7-2029-4042-bb0b-191cfef9465b button.colab-df-convert');\n",
              "        buttonEl.style.display =\n",
              "          google.colab.kernel.accessAllowed ? 'block' : 'none';\n",
              "\n",
              "        async function convertToInteractive(key) {\n",
              "          const element = document.querySelector('#df-7e5f1cd7-2029-4042-bb0b-191cfef9465b');\n",
              "          const dataTable =\n",
              "            await google.colab.kernel.invokeFunction('convertToInteractive',\n",
              "                                                     [key], {});\n",
              "          if (!dataTable) return;\n",
              "\n",
              "          const docLinkHtml = 'Like what you see? Visit the ' +\n",
              "            '<a target=\"_blank\" href=https://colab.research.google.com/notebooks/data_table.ipynb>data table notebook</a>'\n",
              "            + ' to learn more about interactive tables.';\n",
              "          element.innerHTML = '';\n",
              "          dataTable['output_type'] = 'display_data';\n",
              "          await google.colab.output.renderOutput(dataTable, element);\n",
              "          const docLink = document.createElement('div');\n",
              "          docLink.innerHTML = docLinkHtml;\n",
              "          element.appendChild(docLink);\n",
              "        }\n",
              "      </script>\n",
              "    </div>\n",
              "  </div>\n",
              "  "
            ]
          },
          "metadata": {}
        }
      ]
    },
    {
      "cell_type": "code",
      "source": [
        "# Verificar la distribución de las clases\n",
        "a, b = df['Class'].value_counts()\n",
        "print(\"Fraudes en la base de datos:\", b)\n",
        "print(\"Transacciones Validas:\",a)\n",
        "print(\"Porcentaje de Fraudes:\",round(b/len(df) * 100, 3),\"%\")"
      ],
      "metadata": {
        "colab": {
          "base_uri": "https://localhost:8080/"
        },
        "id": "SmEkr084c2dz",
        "outputId": "a8fd1c9e-0254-49af-8ac9-7030bdd8f26f"
      },
      "execution_count": 5,
      "outputs": [
        {
          "output_type": "stream",
          "name": "stdout",
          "text": [
            "Fraudes en la base de datos: 188\n",
            "Transacciones Validas: 77149\n",
            "Porcentaje de Fraudes: 0.243 %\n"
          ]
        }
      ]
    },
    {
      "cell_type": "code",
      "source": [
        "# Graficar la distribución de las clases\n",
        "data = df.copy()\n",
        "data[\" \"] = np.where(df[\"Class\"] == 1 ,  \"Fraude\", \"No Fraude\")\n",
        "data[\" \"].value_counts().plot(kind=\"pie\", autopct='%.3f%%')"
      ],
      "metadata": {
        "colab": {
          "base_uri": "https://localhost:8080/",
          "height": 423
        },
        "id": "XZyAigzSTpLW",
        "outputId": "64af00c1-25cf-4833-bd56-4b1a4e704665"
      },
      "execution_count": 6,
      "outputs": [
        {
          "output_type": "execute_result",
          "data": {
            "text/plain": [
              "<Axes: ylabel=' '>"
            ]
          },
          "metadata": {},
          "execution_count": 6
        },
        {
          "output_type": "display_data",
          "data": {
            "text/plain": [
              "<Figure size 640x480 with 1 Axes>"
            ],
            "image/png": "[encoded data removed]"
          },
          "metadata": {}
        }
      ]
    },
    {
      "cell_type": "code",
      "source": [
        "time_value = df['Time'].values # values\n",
        "\n",
        "sns.distplot(time_value, hist=False, color=\"m\", kde_kws={\"shade\": True}).set_title('Distribución del Tiempo')\n",
        "\n",
        "plt.show()"
      ],
      "metadata": {
        "colab": {
          "base_uri": "https://localhost:8080/",
          "height": 453
        },
        "id": "fOGxaEc4Y9dk",
        "outputId": "ecc07575-edf2-4e7b-fd0f-3177210bd01b"
      },
      "execution_count": 9,
      "outputs": [
        {
          "output_type": "display_data",
          "data": {
            "text/plain": [
              "<Figure size 640x480 with 1 Axes>"
            ],
            "image/png": "[encoded data removed]"
          },
          "metadata": {}
        }
      ]
    },
    {
      "cell_type": "code",
      "source": [
        "print(\"Promedio de Gastos (Fraude): \" + str(df[df[\"Class\"] == 1][\"Amount\"].mean()))\n",
        "print(\"Promedio de Gastos (Transacción Valida): \" + str(df[df[\"Class\"] == 0][\"Amount\"].mean()))"
      ],
      "metadata": {
        "colab": {
          "base_uri": "https://localhost:8080/"
        },
        "id": "7mD-yg77aWea",
        "outputId": "32560e95-9004-4ced-9afd-fa54826b003c"
      },
      "execution_count": 11,
      "outputs": [
        {
          "output_type": "stream",
          "name": "stdout",
          "text": [
            "Promedio de Gastos (Fraude): 94.29249999999999\n",
            "Promedio de Gastos (Transacción Valida): 97.6258674772194\n"
          ]
        }
      ]
    },
    {
      "cell_type": "code",
      "source": [
        "X = df.drop(['Class', \"Time\", \"Amount\"], axis=1)\n",
        "y = df['Class']"
      ],
      "metadata": {
        "id": "reUZ6Q5HqozI"
      },
      "execution_count": 12,
      "outputs": []
    },
    {
      "cell_type": "code",
      "source": [
        "X_ent, X_pr, y_ent, y_pr = train_test_split(X, y, train_size=0.85)"
      ],
      "metadata": {
        "id": "qAAkYntdqs-T"
      },
      "execution_count": 13,
      "outputs": []
    },
    {
      "cell_type": "code",
      "source": [
        "model = Sequential()\n",
        "model.add(Dense(32, input_dim=X_ent.shape[1], activation='tanh'))\n",
        "model.add(Dense(8, activation='tanh')) \n",
        "model.add(Dense(1, activation='sigmoid')) \n",
        "\n",
        "model.compile(loss='binary_crossentropy', optimizer='adam', metrics=['accuracy'])\n",
        "\n",
        "history = model.fit(X_ent, y_ent, epochs=10, batch_size=64)"
      ],
      "metadata": {
        "colab": {
          "base_uri": "https://localhost:8080/"
        },
        "id": "WWxQ1uw1rV4Y",
        "outputId": "8500d4b8-65e1-4dd0-9ca0-f9bc914f8e8b"
      },
      "execution_count": 47,
      "outputs": [
        {
          "output_type": "stream",
          "name": "stdout",
          "text": [
            "Epoch 1/10\n",
            "1028/1028 [==============================] - 2s 2ms/step - loss: 0.0638 - accuracy: 0.9828\n",
            "Epoch 2/10\n",
            "1028/1028 [==============================] - 2s 2ms/step - loss: 0.0054 - accuracy: 0.9990\n",
            "Epoch 3/10\n",
            "1028/1028 [==============================] - 2s 2ms/step - loss: 0.0039 - accuracy: 0.9991\n",
            "Epoch 4/10\n",
            "1028/1028 [==============================] - 2s 2ms/step - loss: 0.0033 - accuracy: 0.9993\n",
            "Epoch 5/10\n",
            "1028/1028 [==============================] - 2s 2ms/step - loss: 0.0030 - accuracy: 0.9993\n",
            "Epoch 6/10\n",
            "1028/1028 [==============================] - 2s 2ms/step - loss: 0.0027 - accuracy: 0.9994\n",
            "Epoch 7/10\n",
            "1028/1028 [==============================] - 2s 2ms/step - loss: 0.0025 - accuracy: 0.9994\n",
            "Epoch 8/10\n",
            "1028/1028 [==============================] - 2s 2ms/step - loss: 0.0023 - accuracy: 0.9995\n",
            "Epoch 9/10\n",
            "1028/1028 [==============================] - 2s 2ms/step - loss: 0.0023 - accuracy: 0.9994\n",
            "Epoch 10/10\n",
            "1028/1028 [==============================] - 2s 2ms/step - loss: 0.0022 - accuracy: 0.9995\n"
          ]
        }
      ]
    },
    {
      "cell_type": "code",
      "source": [
        "plt.plot(history.history['loss'])\n",
        "plt.title('model loss')\n",
        "plt.ylabel('loss')\n",
        "plt.xlabel('epoch')\n",
        "plt.legend(['train', 'test'], loc='upper left')\n",
        "plt.show()"
      ],
      "metadata": {
        "id": "nM8v-HFV28XW",
        "outputId": "c094d95a-76b2-4eb1-a436-d2915ece8b25",
        "colab": {
          "base_uri": "https://localhost:8080/",
          "height": 472
        }
      },
      "execution_count": 35,
      "outputs": [
        {
          "output_type": "display_data",
          "data": {
            "text/plain": [
              "<Figure size 640x480 with 1 Axes>"
            ],
            "image/png": "[encoded data removed]"
          },
          "metadata": {}
        }
      ]
    },
    {
      "cell_type": "code",
      "source": [
        "model.evaluate(X_ent, y_ent)"
      ],
      "metadata": {
        "colab": {
          "base_uri": "https://localhost:8080/"
        },
        "id": "hNUd28yIzZRP",
        "outputId": "597e518c-f238-4d65-ac79-5986b3eb9444"
      },
      "execution_count": 23,
      "outputs": [
        {
          "output_type": "stream",
          "name": "stdout",
          "text": [
            "2055/2055 [==============================] - 4s 2ms/step - loss: 0.0022 - accuracy: 0.9993\n"
          ]
        },
        {
          "output_type": "execute_result",
          "data": {
            "text/plain": [
              "[0.0021675569005310535, 0.9992697834968567]"
            ]
          },
          "metadata": {},
          "execution_count": 23
        }
      ]
    },
    {
      "cell_type": "code",
      "source": [
        "model.summary()"
      ],
      "metadata": {
        "id": "e65pER9a1yc9",
        "outputId": "7db5a00b-bb11-4d81-f70d-e8b7c67e0b87",
        "colab": {
          "base_uri": "https://localhost:8080/"
        }
      },
      "execution_count": 42,
      "outputs": [
        {
          "output_type": "stream",
          "name": "stdout",
          "text": [
            "Model: \"sequential_19\"\n",
            "_________________________________________________________________\n",
            " Layer (type)                Output Shape              Param #   \n",
            "=================================================================\n",
            " dense_55 (Dense)            (None, 16)                464       \n",
            "                                                                 \n",
            " dense_56 (Dense)            (None, 8)                 136       \n",
            "                                                                 \n",
            " dense_57 (Dense)            (None, 1)                 9         \n",
            "                                                                 \n",
            "=================================================================\n",
            "Total params: 609\n",
            "Trainable params: 609\n",
            "Non-trainable params: 0\n",
            "_________________________________________________________________\n"
          ]
        }
      ]
    }
  ]
}