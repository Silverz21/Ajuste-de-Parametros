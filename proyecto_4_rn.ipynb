{
  "nbformat": 4,
  "nbformat_minor": 0,
  "metadata": {
    "colab": {
      "provenance": [],
      "authorship_tag": "ABX9TyOKzI2beQIoYq4bmxtv2Snd",
      "include_colab_link": true
    },
    "kernelspec": {
      "name": "python3",
      "display_name": "Python 3"
    },
    "language_info": {
      "name": "python"
    }
  },
  "cells": [
    {
      "cell_type": "markdown",
      "metadata": {
        "id": "view-in-github",
        "colab_type": "text"
      },
      "source": [
        "<a href=\"https://colab.research.google.com/github/Silverz21/Ajuste-de-Parametros/blob/main/proyecto_4_rn.ipynb\" target=\"_parent\"><img src=\"https://colab.research.google.com/assets/colab-badge.svg\" alt=\"Open In Colab\"/></a>"
      ]
    },
    {
      "cell_type": "code",
      "source": [
        "from keras.api._v2.keras import layers\n",
        "import numpy as np\n",
        "import pandas as pd\n",
        "import matplotlib.pyplot as plt\n",
        "import tensorflow as tf\n",
        "from tensorflow import keras\n",
        "from tensorflow.keras.models import Sequential\n",
        "from tensorflow.keras.layers import Dense\n",
        "from tensorflow.keras.optimizers import Adam"
      ],
      "metadata": {
        "id": "E5SsiQiXE2sb"
      },
      "execution_count": 1,
      "outputs": []
    },
    {
      "cell_type": "markdown",
      "source": [
        "$$\\textbf{Proyecto Redes Neuronales}$$\n",
        "\n",
        "\n",
        "\n",
        "1.   Entrena una red neuronal para que reproduzca las siguientes funciones en el intervalo de $[-1,1]$. Graficar la solución en conjunto con la gráfica de la función.\n",
        "\n",
        "\n",
        "(a) $3 sin(\\pi x).$\n",
        "\n",
        "\n",
        "\n"
      ],
      "metadata": {
        "id": "wPJOcbyGEB_-"
      }
    },
    {
      "cell_type": "markdown",
      "source": [
        "Primero graficamos la función que queremos reproducir."
      ],
      "metadata": {
        "id": "ZEgqfwa2_ZEZ"
      }
    },
    {
      "cell_type": "markdown",
      "source": [
        "Los mismos datos que se utilizaran para graficar los utilizaremos como base de datos para entrenar nuestra red neuronal."
      ],
      "metadata": {
        "id": "A_-hG2ISNa6U"
      }
    },
    {
      "cell_type": "markdown",
      "source": [
        "Como primer paso crearemos array NumPy formado por n números equiespaciados (en este caso serán $250$ números) entre dos dados (el intervalo dado es $[-1,1]$). Su sintaxis es:"
      ],
      "metadata": {
        "id": "qJ8cAXjePb-T"
      }
    },
    {
      "cell_type": "code",
      "execution_count": 2,
      "metadata": {
        "id": "EnUTiwKJD1j3"
      },
      "outputs": [],
      "source": [
        "x_t = np.linspace(-1, 1, 250)"
      ]
    },
    {
      "cell_type": "markdown",
      "source": [
        "Teniendo el arreglo nombraremos a la variable $y_t$ como aquella que utilice los datos para tener los datos de la función la cuál queremos graficar."
      ],
      "metadata": {
        "id": "-rD29346P8ax"
      }
    },
    {
      "cell_type": "code",
      "source": [
        "y_t = 3 * np.sin(np.pi * x_t)"
      ],
      "metadata": {
        "id": "f3sNWHIzP8H8"
      },
      "execution_count": 3,
      "outputs": []
    },
    {
      "cell_type": "markdown",
      "source": [
        "Ahora graficaremos la función $3\\sin(\\pi)$ con las variables obtenidas."
      ],
      "metadata": {
        "id": "rCyNaAUKQels"
      }
    },
    {
      "cell_type": "code",
      "source": [
        "plt.plot(x_t, y_t)\n",
        "plt.suptitle('Función Original')\n",
        "plt.grid(True)\n",
        "plt.show()"
      ],
      "metadata": {
        "colab": {
          "base_uri": "https://localhost:8080/",
          "height": 478
        },
        "id": "FvgXNLvGFY95",
        "outputId": "e542c72b-d3a8-46be-89de-9a831f5e4dd9"
      },
      "execution_count": 4,
      "outputs": [
        {
          "output_type": "display_data",
          "data": {
            "text/plain": [
              "<Figure size 640x480 with 1 Axes>"
            ],
            "image/png": "[encoded data removed]"
          },
          "metadata": {}
        }
      ]
    },
    {
      "cell_type": "markdown",
      "source": [
        "Definimos (utilizando keras) el modelo que vamos a utilizar para la red neuronal y lo compilamos."
      ],
      "metadata": {
        "id": "EC-mgLLcv1RO"
      }
    },
    {
      "cell_type": "markdown",
      "source": [
        "La primer capa de la red neuronal constara de 128 neuronas de entrada, tiene una capa oculta con 32 neuronas y una capa de salida de una sola neurona."
      ],
      "metadata": {
        "id": "eXw1_ATVQshz"
      }
    },
    {
      "cell_type": "code",
      "source": [
        "modelo = keras.Sequential()\n",
        "modelo.add(layers.Dense(128, activation=\"relu\", input_shape=(1,)))\n",
        "modelo.add(layers.Dense(32, activation=\"relu\", input_shape=(1,)))\n",
        "modelo.add(layers.Dense(1))\n",
        "modelo.compile(loss=\"mse\", optimizer=\"adam\")"
      ],
      "metadata": {
        "id": "-Z-R29Agv0uF"
      },
      "execution_count": 5,
      "outputs": []
    },
    {
      "cell_type": "markdown",
      "source": [
        "Entrenamos el modelo. Utilizamos saltos de 32 en 32 datos con 150 vueltas a los datos.\n",
        "Los datos de entrenamiento son los datos $x_t$ y $y_t$."
      ],
      "metadata": {
        "id": "s5MxgEqb_jhi"
      }
    },
    {
      "cell_type": "code",
      "source": [
        "history = modelo.fit(x_t, y_t, batch_size=32,\n",
        "                     epochs=150, verbose=1,\n",
        "                     validation_data=(x_t, y_t))"
      ],
      "metadata": {
        "colab": {
          "base_uri": "https://localhost:8080/"
        },
        "id": "nlmt6jTlwInI",
        "outputId": "28238b76-285d-4491-f0cb-b0521f5f3e31"
      },
      "execution_count": 6,
      "outputs": [
        {
          "output_type": "stream",
          "name": "stdout",
          "text": [
            "Epoch 1/100\n",
            "8/8 [==============================] - 3s 85ms/step - loss: 4.1732 - val_loss: 3.8499\n",
            "Epoch 2/100\n",
            "8/8 [==============================] - 0s 28ms/step - loss: 3.6437 - val_loss: 3.3688\n",
            "Epoch 3/100\n",
            "8/8 [==============================] - 0s 23ms/step - loss: 3.1549 - val_loss: 2.8553\n",
            "Epoch 4/100\n",
            "8/8 [==============================] - 0s 32ms/step - loss: 2.6350 - val_loss: 2.3447\n",
            "Epoch 5/100\n",
            "8/8 [==============================] - 0s 28ms/step - loss: 2.1321 - val_loss: 1.8854\n",
            "Epoch 6/100\n",
            "8/8 [==============================] - 0s 21ms/step - loss: 1.7135 - val_loss: 1.5214\n",
            "Epoch 7/100\n",
            "8/8 [==============================] - 0s 26ms/step - loss: 1.4089 - val_loss: 1.2944\n",
            "Epoch 8/100\n",
            "8/8 [==============================] - 0s 33ms/step - loss: 1.2543 - val_loss: 1.1923\n",
            "Epoch 9/100\n",
            "8/8 [==============================] - 0s 25ms/step - loss: 1.1748 - val_loss: 1.1566\n",
            "Epoch 10/100\n",
            "8/8 [==============================] - 0s 30ms/step - loss: 1.1512 - val_loss: 1.1299\n",
            "Epoch 11/100\n",
            "8/8 [==============================] - 0s 16ms/step - loss: 1.1218 - val_loss: 1.1061\n",
            "Epoch 12/100\n",
            "8/8 [==============================] - 0s 19ms/step - loss: 1.0934 - val_loss: 1.0756\n",
            "Epoch 13/100\n",
            "8/8 [==============================] - 0s 26ms/step - loss: 1.0646 - val_loss: 1.0479\n",
            "Epoch 14/100\n",
            "8/8 [==============================] - 0s 19ms/step - loss: 1.0415 - val_loss: 1.0216\n",
            "Epoch 15/100\n",
            "8/8 [==============================] - 0s 28ms/step - loss: 1.0120 - val_loss: 0.9950\n",
            "Epoch 16/100\n",
            "8/8 [==============================] - 0s 30ms/step - loss: 0.9868 - val_loss: 0.9684\n",
            "Epoch 17/100\n",
            "8/8 [==============================] - 0s 36ms/step - loss: 0.9588 - val_loss: 0.9430\n",
            "Epoch 18/100\n",
            "8/8 [==============================] - 0s 24ms/step - loss: 0.9354 - val_loss: 0.9182\n",
            "Epoch 19/100\n",
            "8/8 [==============================] - 0s 31ms/step - loss: 0.9090 - val_loss: 0.8918\n",
            "Epoch 20/100\n",
            "8/8 [==============================] - 0s 24ms/step - loss: 0.8843 - val_loss: 0.8661\n",
            "Epoch 21/100\n",
            "8/8 [==============================] - 0s 26ms/step - loss: 0.8565 - val_loss: 0.8386\n",
            "Epoch 22/100\n",
            "8/8 [==============================] - 0s 30ms/step - loss: 0.8275 - val_loss: 0.8097\n",
            "Epoch 23/100\n",
            "8/8 [==============================] - 0s 25ms/step - loss: 0.8023 - val_loss: 0.7825\n",
            "Epoch 24/100\n",
            "8/8 [==============================] - 0s 26ms/step - loss: 0.7716 - val_loss: 0.7545\n",
            "Epoch 25/100\n",
            "8/8 [==============================] - 0s 17ms/step - loss: 0.7464 - val_loss: 0.7264\n",
            "Epoch 26/100\n",
            "8/8 [==============================] - 0s 21ms/step - loss: 0.7158 - val_loss: 0.6986\n",
            "Epoch 27/100\n",
            "8/8 [==============================] - 0s 23ms/step - loss: 0.6877 - val_loss: 0.6696\n",
            "Epoch 28/100\n",
            "8/8 [==============================] - 0s 21ms/step - loss: 0.6602 - val_loss: 0.6410\n",
            "Epoch 29/100\n",
            "8/8 [==============================] - 0s 21ms/step - loss: 0.6300 - val_loss: 0.6120\n",
            "Epoch 30/100\n",
            "8/8 [==============================] - 0s 21ms/step - loss: 0.6004 - val_loss: 0.5839\n",
            "Epoch 31/100\n",
            "8/8 [==============================] - 0s 25ms/step - loss: 0.5748 - val_loss: 0.5552\n",
            "Epoch 32/100\n",
            "8/8 [==============================] - 0s 32ms/step - loss: 0.5451 - val_loss: 0.5270\n",
            "Epoch 33/100\n",
            "8/8 [==============================] - 0s 46ms/step - loss: 0.5230 - val_loss: 0.5003\n",
            "Epoch 34/100\n",
            "8/8 [==============================] - 0s 24ms/step - loss: 0.4973 - val_loss: 0.4763\n",
            "Epoch 35/100\n",
            "8/8 [==============================] - 0s 23ms/step - loss: 0.4666 - val_loss: 0.4485\n",
            "Epoch 36/100\n",
            "8/8 [==============================] - 0s 17ms/step - loss: 0.4399 - val_loss: 0.4235\n",
            "Epoch 37/100\n",
            "8/8 [==============================] - 0s 26ms/step - loss: 0.4145 - val_loss: 0.3989\n",
            "Epoch 38/100\n",
            "8/8 [==============================] - 0s 25ms/step - loss: 0.3894 - val_loss: 0.3754\n",
            "Epoch 39/100\n",
            "8/8 [==============================] - 0s 15ms/step - loss: 0.3680 - val_loss: 0.3531\n",
            "Epoch 40/100\n",
            "8/8 [==============================] - 0s 33ms/step - loss: 0.3461 - val_loss: 0.3322\n",
            "Epoch 41/100\n",
            "8/8 [==============================] - 0s 26ms/step - loss: 0.3258 - val_loss: 0.3123\n",
            "Epoch 42/100\n",
            "8/8 [==============================] - 0s 36ms/step - loss: 0.3031 - val_loss: 0.2904\n",
            "Epoch 43/100\n",
            "8/8 [==============================] - 0s 45ms/step - loss: 0.2841 - val_loss: 0.2729\n",
            "Epoch 44/100\n",
            "8/8 [==============================] - 0s 37ms/step - loss: 0.2651 - val_loss: 0.2531\n",
            "Epoch 45/100\n",
            "8/8 [==============================] - 0s 12ms/step - loss: 0.2486 - val_loss: 0.2359\n",
            "Epoch 46/100\n",
            "8/8 [==============================] - 0s 14ms/step - loss: 0.2297 - val_loss: 0.2201\n",
            "Epoch 47/100\n",
            "8/8 [==============================] - 0s 13ms/step - loss: 0.2147 - val_loss: 0.2042\n",
            "Epoch 48/100\n",
            "8/8 [==============================] - 0s 14ms/step - loss: 0.1999 - val_loss: 0.1898\n",
            "Epoch 49/100\n",
            "8/8 [==============================] - 0s 12ms/step - loss: 0.1848 - val_loss: 0.1761\n",
            "Epoch 50/100\n",
            "8/8 [==============================] - 0s 15ms/step - loss: 0.1721 - val_loss: 0.1633\n",
            "Epoch 51/100\n",
            "8/8 [==============================] - 0s 13ms/step - loss: 0.1618 - val_loss: 0.1523\n",
            "Epoch 52/100\n",
            "8/8 [==============================] - 0s 13ms/step - loss: 0.1488 - val_loss: 0.1422\n",
            "Epoch 53/100\n",
            "8/8 [==============================] - 0s 19ms/step - loss: 0.1381 - val_loss: 0.1308\n",
            "Epoch 54/100\n",
            "8/8 [==============================] - 0s 19ms/step - loss: 0.1265 - val_loss: 0.1206\n",
            "Epoch 55/100\n",
            "8/8 [==============================] - 0s 13ms/step - loss: 0.1180 - val_loss: 0.1121\n",
            "Epoch 56/100\n",
            "8/8 [==============================] - 0s 14ms/step - loss: 0.1077 - val_loss: 0.1034\n",
            "Epoch 57/100\n",
            "8/8 [==============================] - 0s 19ms/step - loss: 0.1011 - val_loss: 0.0960\n",
            "Epoch 58/100\n",
            "8/8 [==============================] - 0s 19ms/step - loss: 0.0934 - val_loss: 0.0882\n",
            "Epoch 59/100\n",
            "8/8 [==============================] - 0s 14ms/step - loss: 0.0855 - val_loss: 0.0815\n",
            "Epoch 60/100\n",
            "8/8 [==============================] - 0s 15ms/step - loss: 0.0804 - val_loss: 0.0751\n",
            "Epoch 61/100\n",
            "8/8 [==============================] - 0s 12ms/step - loss: 0.0731 - val_loss: 0.0697\n",
            "Epoch 62/100\n",
            "8/8 [==============================] - 0s 12ms/step - loss: 0.0674 - val_loss: 0.0646\n",
            "Epoch 63/100\n",
            "8/8 [==============================] - 0s 14ms/step - loss: 0.0629 - val_loss: 0.0597\n",
            "Epoch 64/100\n",
            "8/8 [==============================] - 0s 13ms/step - loss: 0.0581 - val_loss: 0.0552\n",
            "Epoch 65/100\n",
            "8/8 [==============================] - 0s 16ms/step - loss: 0.0542 - val_loss: 0.0511\n",
            "Epoch 66/100\n",
            "8/8 [==============================] - 0s 12ms/step - loss: 0.0520 - val_loss: 0.0485\n",
            "Epoch 67/100\n",
            "8/8 [==============================] - 0s 10ms/step - loss: 0.0459 - val_loss: 0.0441\n",
            "Epoch 68/100\n",
            "8/8 [==============================] - 0s 8ms/step - loss: 0.0446 - val_loss: 0.0421\n",
            "Epoch 69/100\n",
            "8/8 [==============================] - 0s 11ms/step - loss: 0.0428 - val_loss: 0.0389\n",
            "Epoch 70/100\n",
            "8/8 [==============================] - 0s 8ms/step - loss: 0.0379 - val_loss: 0.0360\n",
            "Epoch 71/100\n",
            "8/8 [==============================] - 0s 10ms/step - loss: 0.0346 - val_loss: 0.0329\n",
            "Epoch 72/100\n",
            "8/8 [==============================] - 0s 9ms/step - loss: 0.0319 - val_loss: 0.0304\n",
            "Epoch 73/100\n",
            "8/8 [==============================] - 0s 9ms/step - loss: 0.0300 - val_loss: 0.0285\n",
            "Epoch 74/100\n",
            "8/8 [==============================] - 0s 8ms/step - loss: 0.0278 - val_loss: 0.0264\n",
            "Epoch 75/100\n",
            "8/8 [==============================] - 0s 8ms/step - loss: 0.0258 - val_loss: 0.0246\n",
            "Epoch 76/100\n",
            "8/8 [==============================] - 0s 12ms/step - loss: 0.0246 - val_loss: 0.0232\n",
            "Epoch 77/100\n",
            "8/8 [==============================] - 0s 14ms/step - loss: 0.0226 - val_loss: 0.0215\n",
            "Epoch 78/100\n",
            "8/8 [==============================] - 0s 11ms/step - loss: 0.0211 - val_loss: 0.0202\n",
            "Epoch 79/100\n",
            "8/8 [==============================] - 0s 10ms/step - loss: 0.0199 - val_loss: 0.0191\n",
            "Epoch 80/100\n",
            "8/8 [==============================] - 0s 12ms/step - loss: 0.0186 - val_loss: 0.0179\n",
            "Epoch 81/100\n",
            "8/8 [==============================] - 0s 11ms/step - loss: 0.0176 - val_loss: 0.0165\n",
            "Epoch 82/100\n",
            "8/8 [==============================] - 0s 11ms/step - loss: 0.0173 - val_loss: 0.0158\n",
            "Epoch 83/100\n",
            "8/8 [==============================] - 0s 12ms/step - loss: 0.0154 - val_loss: 0.0150\n",
            "Epoch 84/100\n",
            "8/8 [==============================] - 0s 10ms/step - loss: 0.0145 - val_loss: 0.0138\n",
            "Epoch 85/100\n",
            "8/8 [==============================] - 0s 10ms/step - loss: 0.0135 - val_loss: 0.0130\n",
            "Epoch 86/100\n",
            "8/8 [==============================] - 0s 9ms/step - loss: 0.0127 - val_loss: 0.0120\n",
            "Epoch 87/100\n",
            "8/8 [==============================] - 0s 10ms/step - loss: 0.0119 - val_loss: 0.0115\n",
            "Epoch 88/100\n",
            "8/8 [==============================] - 0s 10ms/step - loss: 0.0115 - val_loss: 0.0107\n",
            "Epoch 89/100\n",
            "8/8 [==============================] - 0s 13ms/step - loss: 0.0107 - val_loss: 0.0100\n",
            "Epoch 90/100\n",
            "8/8 [==============================] - 0s 9ms/step - loss: 0.0101 - val_loss: 0.0096\n",
            "Epoch 91/100\n",
            "8/8 [==============================] - 0s 11ms/step - loss: 0.0094 - val_loss: 0.0091\n",
            "Epoch 92/100\n",
            "8/8 [==============================] - 0s 9ms/step - loss: 0.0092 - val_loss: 0.0086\n",
            "Epoch 93/100\n",
            "8/8 [==============================] - 0s 11ms/step - loss: 0.0087 - val_loss: 0.0081\n",
            "Epoch 94/100\n",
            "8/8 [==============================] - 0s 10ms/step - loss: 0.0080 - val_loss: 0.0078\n",
            "Epoch 95/100\n",
            "8/8 [==============================] - 0s 10ms/step - loss: 0.0075 - val_loss: 0.0072\n",
            "Epoch 96/100\n",
            "8/8 [==============================] - 0s 10ms/step - loss: 0.0073 - val_loss: 0.0068\n",
            "Epoch 97/100\n",
            "8/8 [==============================] - 0s 9ms/step - loss: 0.0068 - val_loss: 0.0066\n",
            "Epoch 98/100\n",
            "8/8 [==============================] - 0s 10ms/step - loss: 0.0070 - val_loss: 0.0062\n",
            "Epoch 99/100\n",
            "8/8 [==============================] - 0s 9ms/step - loss: 0.0066 - val_loss: 0.0058\n",
            "Epoch 100/100\n",
            "8/8 [==============================] - 0s 8ms/step - loss: 0.0058 - val_loss: 0.0056\n"
          ]
        }
      ]
    },
    {
      "cell_type": "markdown",
      "source": [
        "Ahora evaluamos dicho modelo y comparamos su gráfica con la de la función original."
      ],
      "metadata": {
        "id": "yQ9RouDp_w2t"
      }
    },
    {
      "cell_type": "markdown",
      "source": [
        "Observamos que el modelo es bueno porque la perdida de valores es muy pequeña."
      ],
      "metadata": {
        "id": "IUuJWvArUIg0"
      }
    },
    {
      "cell_type": "code",
      "source": [
        "x_test = np.linspace(-1, 1, 250)\n",
        "y_test = 3 * np.sin(np.pi * x_t)\n",
        "loss_a = modelo.evaluate(x_test, y_test, verbose=1)"
      ],
      "metadata": {
        "colab": {
          "base_uri": "https://localhost:8080/"
        },
        "id": "M7hxjvjpzLCh",
        "outputId": "ce7dd5f6-7e92-499a-debb-61082e42224a"
      },
      "execution_count": 7,
      "outputs": [
        {
          "output_type": "stream",
          "name": "stdout",
          "text": [
            "8/8 [==============================] - 0s 3ms/step - loss: 0.0056\n"
          ]
        }
      ]
    },
    {
      "cell_type": "code",
      "source": [
        "plt.plot(x_t, y_t, label=\"Función Original\")\n",
        "plt.plot(x_test, modelo.predict(x_test), label=\"Solución de la Red (150 épocas)\")\n",
        "plt.legend()\n",
        "plt.title('Comparación de Gráficas')\n",
        "plt.xticks(fontsize=7)\n",
        "plt.yticks(fontsize=7)\n",
        "plt.grid(True)\n",
        "plt.show()"
      ],
      "metadata": {
        "colab": {
          "base_uri": "https://localhost:8080/",
          "height": 466
        },
        "id": "vzDn4CaizZM3",
        "outputId": "217b5f7c-8c9b-48ab-e79b-626070dedc9a"
      },
      "execution_count": 12,
      "outputs": [
        {
          "output_type": "stream",
          "name": "stdout",
          "text": [
            "8/8 [==============================] - 0s 3ms/step\n"
          ]
        },
        {
          "output_type": "display_data",
          "data": {
            "text/plain": [
              "<Figure size 640x480 with 1 Axes>"
            ],
            "image/png": "[encoded data removed]"
          },
          "metadata": {}
        }
      ]
    },
    {
      "cell_type": "markdown",
      "source": [
        "Observamos que apartir de la época 90-120 el ajuste es bueno ya que si aumentamos más las épocas el modelos se sobreajustaria."
      ],
      "metadata": {
        "id": "fypjteCwUmGe"
      }
    },
    {
      "cell_type": "code",
      "source": [
        "plt.plot(history.history['loss'])\n",
        "plt.plot(history.history['val_loss'])\n",
        "plt.title('model loss')\n",
        "plt.ylabel('loss')\n",
        "plt.xlabel('epoch')\n",
        "plt.legend(['train', 'test'], loc='upper left')\n",
        "plt.show()"
      ],
      "metadata": {
        "colab": {
          "base_uri": "https://localhost:8080/",
          "height": 472
        },
        "id": "mLN_DAt-CJYY",
        "outputId": "21dbf4ce-08e1-431d-edec-ff7436c00a06"
      },
      "execution_count": 9,
      "outputs": [
        {
          "output_type": "display_data",
          "data": {
            "text/plain": [
              "<Figure size 640x480 with 1 Axes>"
            ],
            "image/png": "[encoded data removed]"
          },
          "metadata": {}
        }
      ]
    },
    {
      "cell_type": "markdown",
      "source": [
        "(b) $1+2x+4x^3$\n"
      ],
      "metadata": {
        "id": "PEAUmvixHsHo"
      }
    },
    {
      "cell_type": "markdown",
      "source": [
        "Teniendo el modelo ya definido solo sustituimos los datos de la función $(1+2x+4x^3)$ y graficamos los resultados."
      ],
      "metadata": {
        "id": "ATrKohdUJJae"
      }
    },
    {
      "cell_type": "code",
      "source": [
        "x_t = np.linspace(-1, 1, 500)\n",
        "y_t = 1 + 2*x_t + 4*x_t*x_t*x_t"
      ],
      "metadata": {
        "id": "G5F02dGbIOx_"
      },
      "execution_count": null,
      "outputs": []
    },
    {
      "cell_type": "code",
      "source": [
        "plt.plot(x_t, y_t)\n",
        "plt.suptitle('Función Original')\n",
        "plt.grid(True)\n",
        "plt.show()"
      ],
      "metadata": {
        "id": "4FdCCTyQIWKX"
      },
      "execution_count": null,
      "outputs": []
    },
    {
      "cell_type": "code",
      "source": [
        "history = modelo.fit(x_t, y_t, batch_size=64,\n",
        "                     epochs=500, verbose=1,\n",
        "                     validation_data=(x_t, y_t))"
      ],
      "metadata": {
        "id": "1OjLZHNTIuuh"
      },
      "execution_count": null,
      "outputs": []
    },
    {
      "cell_type": "code",
      "source": [
        "x_test = np.linspace(-1, 1, 500)\n",
        "y_test = 1 + 2*x_t + 4*x_t*x_t*x_t\n",
        "loss_a = modelo.evaluate(x_test, y_test, verbose=1)"
      ],
      "metadata": {
        "id": "TMx8oWy0I6Jg"
      },
      "execution_count": null,
      "outputs": []
    },
    {
      "cell_type": "code",
      "source": [
        "plt.plot(x_t, y_t, label=\"Función Original\")\n",
        "plt.plot(x_test, modelo.predict(x_test), label=\"Solución de la Red (500 épocas)\")\n",
        "plt.legend()\n",
        "plt.title('Comparación de Gráficas')\n",
        "plt.xticks(fontsize=7)\n",
        "plt.yticks(fontsize=7)\n",
        "plt.grid(True)\n",
        "plt.show()"
      ],
      "metadata": {
        "id": "oXrD38bhJBaF"
      },
      "execution_count": null,
      "outputs": []
    },
    {
      "cell_type": "markdown",
      "source": [
        "2. Elegir un problema de los siguientes y diseñar y entrenar una red neuronal con Keras.\n"
      ],
      "metadata": {
        "id": "KrNqu1FDRNJ-"
      }
    }
  ]
}